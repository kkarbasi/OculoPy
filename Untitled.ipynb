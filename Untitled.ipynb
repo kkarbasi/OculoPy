{
 "cells": [
  {
   "cell_type": "code",
   "execution_count": 6,
   "metadata": {},
   "outputs": [],
   "source": [
    "from oculopy import SaccadeDetector\n",
    "from fhd import *\n"
   ]
  },
  {
   "cell_type": "code",
   "execution_count": 7,
   "metadata": {},
   "outputs": [],
   "source": [
    "fname_behavioral = '../data/behavioral/2019_08_12/random_corrective_saccades_160452.fhd'\n"
   ]
  },
  {
   "cell_type": "code",
   "execution_count": 8,
   "metadata": {},
   "outputs": [],
   "source": [
    "fhd_content = load(fname_behavioral)\n",
    "\n",
    "HT = np.squeeze(fhd_content['target_x'])\n",
    "VT = np.squeeze(fhd_content['target_y'])\n",
    "HE = np.squeeze(fhd_content['right_horizontal_eye'])\n",
    "VE = np.squeeze(fhd_content['right_vertical_eye'])\n",
    "eye = np.linalg.norm(np.vstack((HE, VE)), axis = 0)\n",
    "# target = np.linalg.norm(np.vstack((target_x, target_y)), axis = 0)\n",
    "el_t = np.squeeze(fhd_content['t'])\n",
    "trials = fhd_content['trials']"
   ]
  },
  {
   "cell_type": "code",
   "execution_count": 11,
   "metadata": {},
   "outputs": [
    {
     "name": "stderr",
     "output_type": "stream",
     "text": [
      "/run/dmount/OculoPy/oculopy.py:146: RuntimeWarning: invalid value encountered in greater\n",
      "  rising = self.E_v_filtered > v_thresh\n",
      "/run/dmount/OculoPy/oculopy.py:160: RuntimeWarning: invalid value encountered in less\n",
      "  below_onset_offset_thresh = self.E_v_filtered < onoff_thresh\n"
     ]
    }
   ],
   "source": [
    "new_session = SaccadeDetector(HE = HE, t_HE = el_t, VE = VE, t_VE = el_t, eye_fs = 1000.0) \n",
    "new_session._calc_saccade_velocity()\n",
    "new_session._detect_saccades()\n"
   ]
  }
 ],
 "metadata": {
  "kernelspec": {
   "display_name": "Python 3",
   "language": "python",
   "name": "python3"
  },
  "language_info": {
   "codemirror_mode": {
    "name": "ipython",
    "version": 3
   },
   "file_extension": ".py",
   "mimetype": "text/x-python",
   "name": "python",
   "nbconvert_exporter": "python",
   "pygments_lexer": "ipython3",
   "version": "3.6.8"
  }
 },
 "nbformat": 4,
 "nbformat_minor": 2
}
